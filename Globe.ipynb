{
 "cells": [
  {
   "cell_type": "markdown",
   "metadata": {},
   "source": [
    "## Examining trends between population, religion and mental health.\n",
    "***\n",
    "I have always found the link between the population and the mental illness a interesting relationship. I always felt that the exponential and ever growing rise in population can lead to an evolution of traditional social structures as we know it and open the door to a new world.  \n",
    "\n",
    "   For example, the increase in population and globalization could lead to a decrease in close knit societies. Traditionally culture, language and race created foundations of societies, but in a globalized world with constant immigration and emigration, these close knit societies could weaken.Modern civilization is changing and these changes are happening at a rate which could explain why the average person is unable to adaquetley adapt. There are record breaking cases of debilitating anxiety,  depression, ADHD and a number of other mental illnesses. \n",
    "   \n",
    "  This project will examine if there truly is a definitive correlation between subcription to religion, mental health and the increase in population. Or whether due to the development of technology and social media, mental health and religious views and opinions are simply more publicized, leading to an illusion that population, mental health and religion are correlated. \n",
    "  \n",
    "     The main goal of this project is to practice preprocessing and standardizing \n",
    "     datasets.This project then aims to analyze the relationships between population,\n",
    "     subscription to religion and mental illness.\n",
    "     \n",
    "#####  In this project four datasets will be used :\n",
    "\n",
    "1. DataWorld Population Dataset : Has populations per country from 1960-2016\n",
    "2. DataWorld Religion Dataset : World Religion members in 10 year intervals from 1945-2010 per region\n",
    "3. WHO Suicide Statistics : 1987-2015 Suicide statistics by country,year, age and gender\n",
    "4. Kaggle Dataset of the Countries of the World and their regions\n",
    "***"
   ]
  },
  {
   "cell_type": "code",
   "execution_count": 33,
   "metadata": {},
   "outputs": [],
   "source": [
    "import pandas as pd\n",
    "import numpy \n",
    "import seaborn as sns\n",
    "import matplotlib.pyplot as plt"
   ]
  },
  {
   "cell_type": "code",
   "execution_count": 34,
   "metadata": {},
   "outputs": [],
   "source": [
    "population = pd.read_csv('https://query.data.world/s/ubww64afgaabbbplxtwgemgsvk5wkz',skiprows=4)\n",
    "religion = pd.read_csv('https://query.data.world/s/ea4sbqeewniesdcjefojnpawfywjxv')\n",
    "mental = pd.read_csv('who_suicide_statistics.csv')\n",
    "regionref = pd.read_csv('countries of the world.csv')"
   ]
  },
  {
   "cell_type": "markdown",
   "metadata": {},
   "source": [
    "## Cleaning and Preprocessing\n",
    "\n",
    "Our first task is to assess and preprocess the three datasets. This entails : looking at data types, removing/assessing missing values and gaining a better understand of the structure of our data. We will also remove unecessary columns to make visualization easier and help us better understand the relationship between the three. \n",
    "\n",
    "- As we can see the three datasets include very different time frames, and in different intervals. To create a more focused project we will only include intersecting time frames, which are from 1985-2010 as we can see below. \n",
    "- Standardizing the regions mentioned is another important step, the religion datasets groups countries into regions so similiarly we will merge rows of countries in the other two datasets so they are catagorized into regions as well.(Using the Kaggle Country refrence dataset)"
   ]
  },
  {
   "cell_type": "markdown",
   "metadata": {},
   "source": [
    "##### KAGGLE COUNTRY REFRENCE DATA"
   ]
  },
  {
   "cell_type": "code",
   "execution_count": 35,
   "metadata": {},
   "outputs": [
    {
     "data": {
      "text/plain": [
       "227"
      ]
     },
     "execution_count": 35,
     "metadata": {},
     "output_type": "execute_result"
    }
   ],
   "source": [
    "regionref['Country'].nunique()"
   ]
  },
  {
   "cell_type": "code",
   "execution_count": 36,
   "metadata": {},
   "outputs": [
    {
     "data": {
      "text/plain": [
       "Country                                object\n",
       "Region                                 object\n",
       "Population                              int64\n",
       "Area (sq. mi.)                          int64\n",
       "Pop. Density (per sq. mi.)             object\n",
       "Coastline (coast/area ratio)           object\n",
       "Net migration                          object\n",
       "Infant mortality (per 1000 births)     object\n",
       "GDP ($ per capita)                    float64\n",
       "Literacy (%)                           object\n",
       "Phones (per 1000)                      object\n",
       "Arable (%)                             object\n",
       "Crops (%)                              object\n",
       "Other (%)                              object\n",
       "Climate                                object\n",
       "Birthrate                              object\n",
       "Deathrate                              object\n",
       "Agriculture                            object\n",
       "Industry                               object\n",
       "Service                                object\n",
       "dtype: object"
      ]
     },
     "execution_count": 36,
     "metadata": {},
     "output_type": "execute_result"
    }
   ],
   "source": [
    "regionref.dtypes"
   ]
  },
  {
   "cell_type": "code",
   "execution_count": 37,
   "metadata": {},
   "outputs": [],
   "source": [
    "regionref = regionref[['Country','Region']]"
   ]
  },
  {
   "cell_type": "code",
   "execution_count": 38,
   "metadata": {},
   "outputs": [],
   "source": [
    "regionref = regionref.apply(lambda x: x.str.strip() if x.dtype == \"object\" else x)"
   ]
  },
  {
   "cell_type": "code",
   "execution_count": 39,
   "metadata": {},
   "outputs": [],
   "source": [
    "regionref['Country'] = sorted(regionref['Country'])"
   ]
  },
  {
   "cell_type": "markdown",
   "metadata": {},
   "source": [
    "##### POPULATION DATA "
   ]
  },
  {
   "cell_type": "code",
   "execution_count": 40,
   "metadata": {},
   "outputs": [
    {
     "data": {
      "text/plain": [
       "Country Name       object\n",
       "Country Code       object\n",
       "Indicator Name     object\n",
       "Indicator Code     object\n",
       "1960              float64\n",
       "                   ...   \n",
       "2013              float64\n",
       "2014              float64\n",
       "2015              float64\n",
       "2016              float64\n",
       "Unnamed: 61       float64\n",
       "Length: 62, dtype: object"
      ]
     },
     "execution_count": 40,
     "metadata": {},
     "output_type": "execute_result"
    }
   ],
   "source": [
    "population.dtypes"
   ]
  },
  {
   "cell_type": "code",
   "execution_count": 41,
   "metadata": {},
   "outputs": [
    {
     "data": {
      "text/plain": [
       "264"
      ]
     },
     "execution_count": 41,
     "metadata": {},
     "output_type": "execute_result"
    }
   ],
   "source": [
    "population['Country Name'].nunique()"
   ]
  },
  {
   "cell_type": "code",
   "execution_count": 42,
   "metadata": {},
   "outputs": [
    {
     "data": {
      "text/plain": [
       "Country Name        0\n",
       "Country Code        0\n",
       "Indicator Name      0\n",
       "Indicator Code      0\n",
       "1960                4\n",
       "                 ... \n",
       "2013                2\n",
       "2014                2\n",
       "2015                2\n",
       "2016              264\n",
       "Unnamed: 61       264\n",
       "Length: 62, dtype: int64"
      ]
     },
     "execution_count": 42,
     "metadata": {},
     "output_type": "execute_result"
    }
   ],
   "source": [
    "population.isnull().sum()"
   ]
  },
  {
   "cell_type": "code",
   "execution_count": 43,
   "metadata": {},
   "outputs": [],
   "source": [
    "population = population[['Country Name','1985','1990','1995','2000','2005','2010']]"
   ]
  },
  {
   "cell_type": "code",
   "execution_count": 44,
   "metadata": {},
   "outputs": [],
   "source": [
    "population['Country Name'] = sorted(population['Country Name'])"
   ]
  },
  {
   "cell_type": "code",
   "execution_count": 45,
   "metadata": {},
   "outputs": [
    {
     "data": {
      "text/plain": [
       "True     177\n",
       "False     87\n",
       "Name: Country Name, dtype: int64"
      ]
     },
     "execution_count": 45,
     "metadata": {},
     "output_type": "execute_result"
    }
   ],
   "source": [
    "population['Country Name'].isin(regionref['Country']).value_counts()"
   ]
  },
  {
   "cell_type": "markdown",
   "metadata": {},
   "source": [
    "Here we only keep the columns that are necessary : the time periods we specified and the country name. We then concatonate regionref and population datasets so that countries and regions match up, Country name now becomes the new index."
   ]
  },
  {
   "cell_type": "code",
   "execution_count": 46,
   "metadata": {},
   "outputs": [],
   "source": [
    "populationnew = pd.concat([regionref.set_index('Country'), population.set_index('Country Name')], axis = 1, sort=True)"
   ]
  },
  {
   "cell_type": "code",
   "execution_count": 47,
   "metadata": {},
   "outputs": [
    {
     "data": {
      "text/html": [
       "<div>\n",
       "<style scoped>\n",
       "    .dataframe tbody tr th:only-of-type {\n",
       "        vertical-align: middle;\n",
       "    }\n",
       "\n",
       "    .dataframe tbody tr th {\n",
       "        vertical-align: top;\n",
       "    }\n",
       "\n",
       "    .dataframe thead th {\n",
       "        text-align: right;\n",
       "    }\n",
       "</style>\n",
       "<table border=\"1\" class=\"dataframe\">\n",
       "  <thead>\n",
       "    <tr style=\"text-align: right;\">\n",
       "      <th></th>\n",
       "      <th>Region</th>\n",
       "      <th>1985</th>\n",
       "      <th>1990</th>\n",
       "      <th>1995</th>\n",
       "      <th>2000</th>\n",
       "      <th>2005</th>\n",
       "      <th>2010</th>\n",
       "    </tr>\n",
       "  </thead>\n",
       "  <tbody>\n",
       "    <tr>\n",
       "      <td>Afghanistan</td>\n",
       "      <td>ASIA (EX. NEAR EAST)</td>\n",
       "      <td>63028.0</td>\n",
       "      <td>62148.0</td>\n",
       "      <td>80326.0</td>\n",
       "      <td>90858.0</td>\n",
       "      <td>100031.0</td>\n",
       "      <td>101597.0</td>\n",
       "    </tr>\n",
       "    <tr>\n",
       "      <td>Albania</td>\n",
       "      <td>EASTERN EUROPE</td>\n",
       "      <td>44597.0</td>\n",
       "      <td>54511.0</td>\n",
       "      <td>63854.0</td>\n",
       "      <td>65399.0</td>\n",
       "      <td>81223.0</td>\n",
       "      <td>84419.0</td>\n",
       "    </tr>\n",
       "    <tr>\n",
       "      <td>Algeria</td>\n",
       "      <td>NORTHERN AFRICA</td>\n",
       "      <td>11630498.0</td>\n",
       "      <td>12067570.0</td>\n",
       "      <td>16772522.0</td>\n",
       "      <td>19701940.0</td>\n",
       "      <td>24399948.0</td>\n",
       "      <td>27962207.0</td>\n",
       "    </tr>\n",
       "    <tr>\n",
       "      <td>American Samoa</td>\n",
       "      <td>OCEANIA</td>\n",
       "      <td>9745209.0</td>\n",
       "      <td>11127870.0</td>\n",
       "      <td>13042666.0</td>\n",
       "      <td>15058638.0</td>\n",
       "      <td>17912942.0</td>\n",
       "      <td>21219954.0</td>\n",
       "    </tr>\n",
       "    <tr>\n",
       "      <td>Andorra</td>\n",
       "      <td>WESTERN EUROPE</td>\n",
       "      <td>2964762.0</td>\n",
       "      <td>3286542.0</td>\n",
       "      <td>3187784.0</td>\n",
       "      <td>3089027.0</td>\n",
       "      <td>3011487.0</td>\n",
       "      <td>2913021.0</td>\n",
       "    </tr>\n",
       "  </tbody>\n",
       "</table>\n",
       "</div>"
      ],
      "text/plain": [
       "                              Region        1985        1990        1995  \\\n",
       "Afghanistan     ASIA (EX. NEAR EAST)     63028.0     62148.0     80326.0   \n",
       "Albania               EASTERN EUROPE     44597.0     54511.0     63854.0   \n",
       "Algeria              NORTHERN AFRICA  11630498.0  12067570.0  16772522.0   \n",
       "American Samoa               OCEANIA   9745209.0  11127870.0  13042666.0   \n",
       "Andorra               WESTERN EUROPE   2964762.0   3286542.0   3187784.0   \n",
       "\n",
       "                      2000        2005        2010  \n",
       "Afghanistan        90858.0    100031.0    101597.0  \n",
       "Albania            65399.0     81223.0     84419.0  \n",
       "Algeria         19701940.0  24399948.0  27962207.0  \n",
       "American Samoa  15058638.0  17912942.0  21219954.0  \n",
       "Andorra          3089027.0   3011487.0   2913021.0  "
      ]
     },
     "execution_count": 47,
     "metadata": {},
     "output_type": "execute_result"
    }
   ],
   "source": [
    "populationnew.head()"
   ]
  },
  {
   "cell_type": "markdown",
   "metadata": {},
   "source": [
    "Here I did have some trouble at first as I didnt realize that there were whitespaces in the regionref Country column, so when I concatonated the two dataframes, identical values did not recognize each other. We then groupby region and sum the populations of each year column. "
   ]
  },
  {
   "cell_type": "code",
   "execution_count": 48,
   "metadata": {},
   "outputs": [],
   "source": [
    "aggregated = {'1985':'sum','1990':'sum','1995':'sum','2000':'sum','2005':'sum','2010':'sum'}\n",
    "populationnew = populationnew.groupby(populationnew['Region']).aggregate(aggregated)"
   ]
  },
  {
   "cell_type": "code",
   "execution_count": 49,
   "metadata": {},
   "outputs": [
    {
     "data": {
      "text/html": [
       "<div>\n",
       "<style scoped>\n",
       "    .dataframe tbody tr th:only-of-type {\n",
       "        vertical-align: middle;\n",
       "    }\n",
       "\n",
       "    .dataframe tbody tr th {\n",
       "        vertical-align: top;\n",
       "    }\n",
       "\n",
       "    .dataframe thead th {\n",
       "        text-align: right;\n",
       "    }\n",
       "</style>\n",
       "<table border=\"1\" class=\"dataframe\">\n",
       "  <thead>\n",
       "    <tr style=\"text-align: right;\">\n",
       "      <th></th>\n",
       "      <th>1985</th>\n",
       "      <th>1990</th>\n",
       "      <th>1995</th>\n",
       "      <th>2000</th>\n",
       "      <th>2005</th>\n",
       "      <th>2010</th>\n",
       "    </tr>\n",
       "    <tr>\n",
       "      <th>Region</th>\n",
       "      <th></th>\n",
       "      <th></th>\n",
       "      <th></th>\n",
       "      <th></th>\n",
       "      <th></th>\n",
       "      <th></th>\n",
       "    </tr>\n",
       "  </thead>\n",
       "  <tbody>\n",
       "    <tr>\n",
       "      <td>ASIA (EX. NEAR EAST)</td>\n",
       "      <td>6.144613e+09</td>\n",
       "      <td>6.730433e+09</td>\n",
       "      <td>7.297347e+09</td>\n",
       "      <td>7.852152e+09</td>\n",
       "      <td>8.393922e+09</td>\n",
       "      <td>8.940339e+09</td>\n",
       "    </tr>\n",
       "    <tr>\n",
       "      <td>BALTICS</td>\n",
       "      <td>4.473403e+08</td>\n",
       "      <td>4.956693e+08</td>\n",
       "      <td>5.453532e+08</td>\n",
       "      <td>5.942070e+08</td>\n",
       "      <td>6.413407e+08</td>\n",
       "      <td>6.882626e+08</td>\n",
       "    </tr>\n",
       "    <tr>\n",
       "      <td>C.W. OF IND. STATES</td>\n",
       "      <td>4.186658e+08</td>\n",
       "      <td>4.545850e+08</td>\n",
       "      <td>4.937479e+08</td>\n",
       "      <td>5.323963e+08</td>\n",
       "      <td>5.674631e+08</td>\n",
       "      <td>6.010167e+08</td>\n",
       "    </tr>\n",
       "    <tr>\n",
       "      <td>EASTERN EUROPE</td>\n",
       "      <td>1.750518e+09</td>\n",
       "      <td>2.002945e+09</td>\n",
       "      <td>2.280229e+09</td>\n",
       "      <td>2.579721e+09</td>\n",
       "      <td>2.910594e+09</td>\n",
       "      <td>3.289026e+09</td>\n",
       "    </tr>\n",
       "    <tr>\n",
       "      <td>LATIN AMER. &amp; CARIB</td>\n",
       "      <td>1.055092e+10</td>\n",
       "      <td>1.156874e+10</td>\n",
       "      <td>1.254538e+10</td>\n",
       "      <td>1.349153e+10</td>\n",
       "      <td>1.439780e+10</td>\n",
       "      <td>1.529556e+10</td>\n",
       "    </tr>\n",
       "    <tr>\n",
       "      <td>NEAR EAST</td>\n",
       "      <td>4.510984e+08</td>\n",
       "      <td>5.170202e+08</td>\n",
       "      <td>5.916676e+08</td>\n",
       "      <td>6.713560e+08</td>\n",
       "      <td>7.609071e+08</td>\n",
       "      <td>8.653869e+08</td>\n",
       "    </tr>\n",
       "    <tr>\n",
       "      <td>NORTHERN AFRICA</td>\n",
       "      <td>1.712301e+09</td>\n",
       "      <td>1.918968e+09</td>\n",
       "      <td>2.127990e+09</td>\n",
       "      <td>2.333387e+09</td>\n",
       "      <td>2.539986e+09</td>\n",
       "      <td>2.748225e+09</td>\n",
       "    </tr>\n",
       "    <tr>\n",
       "      <td>NORTHERN AMERICA</td>\n",
       "      <td>3.012889e+07</td>\n",
       "      <td>3.368817e+07</td>\n",
       "      <td>3.656935e+07</td>\n",
       "      <td>4.011174e+07</td>\n",
       "      <td>4.394030e+07</td>\n",
       "      <td>4.772285e+07</td>\n",
       "    </tr>\n",
       "    <tr>\n",
       "      <td>OCEANIA</td>\n",
       "      <td>2.442891e+09</td>\n",
       "      <td>2.648820e+09</td>\n",
       "      <td>2.831703e+09</td>\n",
       "      <td>3.001863e+09</td>\n",
       "      <td>3.149366e+09</td>\n",
       "      <td>3.299262e+09</td>\n",
       "    </tr>\n",
       "    <tr>\n",
       "      <td>SUB-SAHARAN AFRICA</td>\n",
       "      <td>4.504728e+09</td>\n",
       "      <td>4.932530e+09</td>\n",
       "      <td>5.324094e+09</td>\n",
       "      <td>5.699389e+09</td>\n",
       "      <td>6.059810e+09</td>\n",
       "      <td>6.429455e+09</td>\n",
       "    </tr>\n",
       "    <tr>\n",
       "      <td>WESTERN EUROPE</td>\n",
       "      <td>5.681197e+09</td>\n",
       "      <td>6.211745e+09</td>\n",
       "      <td>6.719189e+09</td>\n",
       "      <td>7.210858e+09</td>\n",
       "      <td>7.689618e+09</td>\n",
       "      <td>8.185681e+09</td>\n",
       "    </tr>\n",
       "  </tbody>\n",
       "</table>\n",
       "</div>"
      ],
      "text/plain": [
       "                              1985          1990          1995          2000  \\\n",
       "Region                                                                         \n",
       "ASIA (EX. NEAR EAST)  6.144613e+09  6.730433e+09  7.297347e+09  7.852152e+09   \n",
       "BALTICS               4.473403e+08  4.956693e+08  5.453532e+08  5.942070e+08   \n",
       "C.W. OF IND. STATES   4.186658e+08  4.545850e+08  4.937479e+08  5.323963e+08   \n",
       "EASTERN EUROPE        1.750518e+09  2.002945e+09  2.280229e+09  2.579721e+09   \n",
       "LATIN AMER. & CARIB   1.055092e+10  1.156874e+10  1.254538e+10  1.349153e+10   \n",
       "NEAR EAST             4.510984e+08  5.170202e+08  5.916676e+08  6.713560e+08   \n",
       "NORTHERN AFRICA       1.712301e+09  1.918968e+09  2.127990e+09  2.333387e+09   \n",
       "NORTHERN AMERICA      3.012889e+07  3.368817e+07  3.656935e+07  4.011174e+07   \n",
       "OCEANIA               2.442891e+09  2.648820e+09  2.831703e+09  3.001863e+09   \n",
       "SUB-SAHARAN AFRICA    4.504728e+09  4.932530e+09  5.324094e+09  5.699389e+09   \n",
       "WESTERN EUROPE        5.681197e+09  6.211745e+09  6.719189e+09  7.210858e+09   \n",
       "\n",
       "                              2005          2010  \n",
       "Region                                            \n",
       "ASIA (EX. NEAR EAST)  8.393922e+09  8.940339e+09  \n",
       "BALTICS               6.413407e+08  6.882626e+08  \n",
       "C.W. OF IND. STATES   5.674631e+08  6.010167e+08  \n",
       "EASTERN EUROPE        2.910594e+09  3.289026e+09  \n",
       "LATIN AMER. & CARIB   1.439780e+10  1.529556e+10  \n",
       "NEAR EAST             7.609071e+08  8.653869e+08  \n",
       "NORTHERN AFRICA       2.539986e+09  2.748225e+09  \n",
       "NORTHERN AMERICA      4.394030e+07  4.772285e+07  \n",
       "OCEANIA               3.149366e+09  3.299262e+09  \n",
       "SUB-SAHARAN AFRICA    6.059810e+09  6.429455e+09  \n",
       "WESTERN EUROPE        7.689618e+09  8.185681e+09  "
      ]
     },
     "execution_count": 49,
     "metadata": {},
     "output_type": "execute_result"
    }
   ],
   "source": [
    "populationnew"
   ]
  },
  {
   "cell_type": "markdown",
   "metadata": {},
   "source": [
    "We can further aggregate columns to match the format of the religion dataset whose reigons are broken down into : Africa, Asia, West Hem, Europe and Middle East. First we change the index value names and then groupby index and sum the year columns"
   ]
  },
  {
   "cell_type": "code",
   "execution_count": 50,
   "metadata": {},
   "outputs": [],
   "source": [
    "populationnew.index.set_value(populationnew.index,'SUB-SAHARAN AFRICA' ,'Africa')\n",
    "populationnew.index.set_value(populationnew.index,'OCEANIA' ,'Africa')\n",
    "populationnew.index.set_value(populationnew.index,'LATIN AMER. & CARIB' ,'West. Hem')\n",
    "populationnew.index.set_value(populationnew.index,'WESTERN EUROPE' ,'Europe')\n",
    "populationnew.index.set_value(populationnew.index,'EASTERN EUROPE' ,'Europe')\n",
    "populationnew.index.set_value(populationnew.index,'BALTICS' ,'Europe')\n",
    "populationnew.index.set_value(populationnew.index,'C.W. OF IND. STATES' ,'Europe')\n",
    "populationnew.index.set_value(populationnew.index,'NORTHERN AMERICA' ,'West. Hem')\n",
    "populationnew.index.set_value(populationnew.index,'ASIA (EX. NEAR EAST)' ,'Asia')\n",
    "populationnew.index.set_value(populationnew.index,'NEAR EAST' ,'Asia')\n",
    "populationnew.index.set_value(populationnew.index,'NORTHERN AFRICA' ,'Mideast')"
   ]
  },
  {
   "cell_type": "code",
   "execution_count": 51,
   "metadata": {},
   "outputs": [
    {
     "data": {
      "text/html": [
       "<div>\n",
       "<style scoped>\n",
       "    .dataframe tbody tr th:only-of-type {\n",
       "        vertical-align: middle;\n",
       "    }\n",
       "\n",
       "    .dataframe tbody tr th {\n",
       "        vertical-align: top;\n",
       "    }\n",
       "\n",
       "    .dataframe thead th {\n",
       "        text-align: right;\n",
       "    }\n",
       "</style>\n",
       "<table border=\"1\" class=\"dataframe\">\n",
       "  <thead>\n",
       "    <tr style=\"text-align: right;\">\n",
       "      <th></th>\n",
       "      <th>1985</th>\n",
       "      <th>1990</th>\n",
       "      <th>1995</th>\n",
       "      <th>2000</th>\n",
       "      <th>2005</th>\n",
       "      <th>2010</th>\n",
       "    </tr>\n",
       "    <tr>\n",
       "      <th>Region</th>\n",
       "      <th></th>\n",
       "      <th></th>\n",
       "      <th></th>\n",
       "      <th></th>\n",
       "      <th></th>\n",
       "      <th></th>\n",
       "    </tr>\n",
       "  </thead>\n",
       "  <tbody>\n",
       "    <tr>\n",
       "      <td>Asia</td>\n",
       "      <td>6.144613e+09</td>\n",
       "      <td>6.730433e+09</td>\n",
       "      <td>7.297347e+09</td>\n",
       "      <td>7.852152e+09</td>\n",
       "      <td>8.393922e+09</td>\n",
       "      <td>8.940339e+09</td>\n",
       "    </tr>\n",
       "    <tr>\n",
       "      <td>Europe</td>\n",
       "      <td>4.473403e+08</td>\n",
       "      <td>4.956693e+08</td>\n",
       "      <td>5.453532e+08</td>\n",
       "      <td>5.942070e+08</td>\n",
       "      <td>6.413407e+08</td>\n",
       "      <td>6.882626e+08</td>\n",
       "    </tr>\n",
       "    <tr>\n",
       "      <td>Europe</td>\n",
       "      <td>4.186658e+08</td>\n",
       "      <td>4.545850e+08</td>\n",
       "      <td>4.937479e+08</td>\n",
       "      <td>5.323963e+08</td>\n",
       "      <td>5.674631e+08</td>\n",
       "      <td>6.010167e+08</td>\n",
       "    </tr>\n",
       "    <tr>\n",
       "      <td>Europe</td>\n",
       "      <td>1.750518e+09</td>\n",
       "      <td>2.002945e+09</td>\n",
       "      <td>2.280229e+09</td>\n",
       "      <td>2.579721e+09</td>\n",
       "      <td>2.910594e+09</td>\n",
       "      <td>3.289026e+09</td>\n",
       "    </tr>\n",
       "    <tr>\n",
       "      <td>West. Hem</td>\n",
       "      <td>1.055092e+10</td>\n",
       "      <td>1.156874e+10</td>\n",
       "      <td>1.254538e+10</td>\n",
       "      <td>1.349153e+10</td>\n",
       "      <td>1.439780e+10</td>\n",
       "      <td>1.529556e+10</td>\n",
       "    </tr>\n",
       "    <tr>\n",
       "      <td>Asia</td>\n",
       "      <td>4.510984e+08</td>\n",
       "      <td>5.170202e+08</td>\n",
       "      <td>5.916676e+08</td>\n",
       "      <td>6.713560e+08</td>\n",
       "      <td>7.609071e+08</td>\n",
       "      <td>8.653869e+08</td>\n",
       "    </tr>\n",
       "    <tr>\n",
       "      <td>Mideast</td>\n",
       "      <td>1.712301e+09</td>\n",
       "      <td>1.918968e+09</td>\n",
       "      <td>2.127990e+09</td>\n",
       "      <td>2.333387e+09</td>\n",
       "      <td>2.539986e+09</td>\n",
       "      <td>2.748225e+09</td>\n",
       "    </tr>\n",
       "    <tr>\n",
       "      <td>West. Hem</td>\n",
       "      <td>3.012889e+07</td>\n",
       "      <td>3.368817e+07</td>\n",
       "      <td>3.656935e+07</td>\n",
       "      <td>4.011174e+07</td>\n",
       "      <td>4.394030e+07</td>\n",
       "      <td>4.772285e+07</td>\n",
       "    </tr>\n",
       "    <tr>\n",
       "      <td>Africa</td>\n",
       "      <td>2.442891e+09</td>\n",
       "      <td>2.648820e+09</td>\n",
       "      <td>2.831703e+09</td>\n",
       "      <td>3.001863e+09</td>\n",
       "      <td>3.149366e+09</td>\n",
       "      <td>3.299262e+09</td>\n",
       "    </tr>\n",
       "    <tr>\n",
       "      <td>Africa</td>\n",
       "      <td>4.504728e+09</td>\n",
       "      <td>4.932530e+09</td>\n",
       "      <td>5.324094e+09</td>\n",
       "      <td>5.699389e+09</td>\n",
       "      <td>6.059810e+09</td>\n",
       "      <td>6.429455e+09</td>\n",
       "    </tr>\n",
       "    <tr>\n",
       "      <td>Europe</td>\n",
       "      <td>5.681197e+09</td>\n",
       "      <td>6.211745e+09</td>\n",
       "      <td>6.719189e+09</td>\n",
       "      <td>7.210858e+09</td>\n",
       "      <td>7.689618e+09</td>\n",
       "      <td>8.185681e+09</td>\n",
       "    </tr>\n",
       "  </tbody>\n",
       "</table>\n",
       "</div>"
      ],
      "text/plain": [
       "                   1985          1990          1995          2000  \\\n",
       "Region                                                              \n",
       "Asia       6.144613e+09  6.730433e+09  7.297347e+09  7.852152e+09   \n",
       "Europe     4.473403e+08  4.956693e+08  5.453532e+08  5.942070e+08   \n",
       "Europe     4.186658e+08  4.545850e+08  4.937479e+08  5.323963e+08   \n",
       "Europe     1.750518e+09  2.002945e+09  2.280229e+09  2.579721e+09   \n",
       "West. Hem  1.055092e+10  1.156874e+10  1.254538e+10  1.349153e+10   \n",
       "Asia       4.510984e+08  5.170202e+08  5.916676e+08  6.713560e+08   \n",
       "Mideast    1.712301e+09  1.918968e+09  2.127990e+09  2.333387e+09   \n",
       "West. Hem  3.012889e+07  3.368817e+07  3.656935e+07  4.011174e+07   \n",
       "Africa     2.442891e+09  2.648820e+09  2.831703e+09  3.001863e+09   \n",
       "Africa     4.504728e+09  4.932530e+09  5.324094e+09  5.699389e+09   \n",
       "Europe     5.681197e+09  6.211745e+09  6.719189e+09  7.210858e+09   \n",
       "\n",
       "                   2005          2010  \n",
       "Region                                 \n",
       "Asia       8.393922e+09  8.940339e+09  \n",
       "Europe     6.413407e+08  6.882626e+08  \n",
       "Europe     5.674631e+08  6.010167e+08  \n",
       "Europe     2.910594e+09  3.289026e+09  \n",
       "West. Hem  1.439780e+10  1.529556e+10  \n",
       "Asia       7.609071e+08  8.653869e+08  \n",
       "Mideast    2.539986e+09  2.748225e+09  \n",
       "West. Hem  4.394030e+07  4.772285e+07  \n",
       "Africa     3.149366e+09  3.299262e+09  \n",
       "Africa     6.059810e+09  6.429455e+09  \n",
       "Europe     7.689618e+09  8.185681e+09  "
      ]
     },
     "execution_count": 51,
     "metadata": {},
     "output_type": "execute_result"
    }
   ],
   "source": [
    "populationnew"
   ]
  },
  {
   "cell_type": "code",
   "execution_count": 52,
   "metadata": {},
   "outputs": [],
   "source": [
    "populationnew = populationnew.groupby(populationnew.index).sum()"
   ]
  },
  {
   "cell_type": "code",
   "execution_count": 53,
   "metadata": {},
   "outputs": [
    {
     "data": {
      "text/html": [
       "<div>\n",
       "<style scoped>\n",
       "    .dataframe tbody tr th:only-of-type {\n",
       "        vertical-align: middle;\n",
       "    }\n",
       "\n",
       "    .dataframe tbody tr th {\n",
       "        vertical-align: top;\n",
       "    }\n",
       "\n",
       "    .dataframe thead th {\n",
       "        text-align: right;\n",
       "    }\n",
       "</style>\n",
       "<table border=\"1\" class=\"dataframe\">\n",
       "  <thead>\n",
       "    <tr style=\"text-align: right;\">\n",
       "      <th></th>\n",
       "      <th>1985</th>\n",
       "      <th>1990</th>\n",
       "      <th>1995</th>\n",
       "      <th>2000</th>\n",
       "      <th>2005</th>\n",
       "      <th>2010</th>\n",
       "    </tr>\n",
       "    <tr>\n",
       "      <th>Region</th>\n",
       "      <th></th>\n",
       "      <th></th>\n",
       "      <th></th>\n",
       "      <th></th>\n",
       "      <th></th>\n",
       "      <th></th>\n",
       "    </tr>\n",
       "  </thead>\n",
       "  <tbody>\n",
       "    <tr>\n",
       "      <td>Africa</td>\n",
       "      <td>6.947620e+09</td>\n",
       "      <td>7.581349e+09</td>\n",
       "      <td>8.155797e+09</td>\n",
       "      <td>8.701252e+09</td>\n",
       "      <td>9.209176e+09</td>\n",
       "      <td>9.728717e+09</td>\n",
       "    </tr>\n",
       "    <tr>\n",
       "      <td>Asia</td>\n",
       "      <td>6.595712e+09</td>\n",
       "      <td>7.247453e+09</td>\n",
       "      <td>7.889014e+09</td>\n",
       "      <td>8.523508e+09</td>\n",
       "      <td>9.154829e+09</td>\n",
       "      <td>9.805726e+09</td>\n",
       "    </tr>\n",
       "    <tr>\n",
       "      <td>Europe</td>\n",
       "      <td>8.297722e+09</td>\n",
       "      <td>9.164944e+09</td>\n",
       "      <td>1.003852e+10</td>\n",
       "      <td>1.091718e+10</td>\n",
       "      <td>1.180902e+10</td>\n",
       "      <td>1.276399e+10</td>\n",
       "    </tr>\n",
       "    <tr>\n",
       "      <td>Mideast</td>\n",
       "      <td>1.712301e+09</td>\n",
       "      <td>1.918968e+09</td>\n",
       "      <td>2.127990e+09</td>\n",
       "      <td>2.333387e+09</td>\n",
       "      <td>2.539986e+09</td>\n",
       "      <td>2.748225e+09</td>\n",
       "    </tr>\n",
       "    <tr>\n",
       "      <td>West. Hem</td>\n",
       "      <td>1.058105e+10</td>\n",
       "      <td>1.160243e+10</td>\n",
       "      <td>1.258195e+10</td>\n",
       "      <td>1.353164e+10</td>\n",
       "      <td>1.444174e+10</td>\n",
       "      <td>1.534329e+10</td>\n",
       "    </tr>\n",
       "  </tbody>\n",
       "</table>\n",
       "</div>"
      ],
      "text/plain": [
       "                   1985          1990          1995          2000  \\\n",
       "Region                                                              \n",
       "Africa     6.947620e+09  7.581349e+09  8.155797e+09  8.701252e+09   \n",
       "Asia       6.595712e+09  7.247453e+09  7.889014e+09  8.523508e+09   \n",
       "Europe     8.297722e+09  9.164944e+09  1.003852e+10  1.091718e+10   \n",
       "Mideast    1.712301e+09  1.918968e+09  2.127990e+09  2.333387e+09   \n",
       "West. Hem  1.058105e+10  1.160243e+10  1.258195e+10  1.353164e+10   \n",
       "\n",
       "                   2005          2010  \n",
       "Region                                 \n",
       "Africa     9.209176e+09  9.728717e+09  \n",
       "Asia       9.154829e+09  9.805726e+09  \n",
       "Europe     1.180902e+10  1.276399e+10  \n",
       "Mideast    2.539986e+09  2.748225e+09  \n",
       "West. Hem  1.444174e+10  1.534329e+10  "
      ]
     },
     "execution_count": 53,
     "metadata": {},
     "output_type": "execute_result"
    }
   ],
   "source": [
    "populationnew"
   ]
  },
  {
   "cell_type": "code",
   "execution_count": 54,
   "metadata": {},
   "outputs": [],
   "source": [
    "populationonly = populationnew.agg({'1985':'sum','1990':'sum','1995':'sum','2000':'sum','2005':'sum','2010':'sum'})"
   ]
  },
  {
   "cell_type": "code",
   "execution_count": 141,
   "metadata": {},
   "outputs": [
    {
     "data": {
      "text/plain": [
       "1985    3.413441e+10\n",
       "1990    3.751514e+10\n",
       "1995    4.079327e+10\n",
       "2000    4.400697e+10\n",
       "2005    4.715475e+10\n",
       "2010    5.038994e+10\n",
       "dtype: float64"
      ]
     },
     "execution_count": 141,
     "metadata": {},
     "output_type": "execute_result"
    }
   ],
   "source": [
    "populationonly"
   ]
  },
  {
   "cell_type": "markdown",
   "metadata": {},
   "source": [
    "###### RELIGION DATA"
   ]
  },
  {
   "cell_type": "code",
   "execution_count": 56,
   "metadata": {},
   "outputs": [
    {
     "data": {
      "text/plain": [
       "year             int64\n",
       "region          object\n",
       "chrstprot       object\n",
       "chrstcat        object\n",
       "chrstorth       object\n",
       "                ...   \n",
       "othrgenpct     float64\n",
       "sumreligpct    float64\n",
       "totalpct       float64\n",
       "totregpct      float64\n",
       "version        float64\n",
       "Length: 79, dtype: object"
      ]
     },
     "execution_count": 56,
     "metadata": {},
     "output_type": "execute_result"
    }
   ],
   "source": [
    "religion.dtypes"
   ]
  },
  {
   "cell_type": "code",
   "execution_count": 57,
   "metadata": {},
   "outputs": [
    {
     "data": {
      "text/plain": [
       "array(['Africa', 'Asia', 'Europe', 'Mideast', 'West. Hem'], dtype=object)"
      ]
     },
     "execution_count": 57,
     "metadata": {},
     "output_type": "execute_result"
    }
   ],
   "source": [
    "religion['region'].unique()"
   ]
  },
  {
   "cell_type": "code",
   "execution_count": 58,
   "metadata": {},
   "outputs": [
    {
     "data": {
      "text/plain": [
       "array([1945, 1950, 1955, 1960, 1965, 1970, 1975, 1980, 1985, 1990, 1995,\n",
       "       2000, 2005, 2010])"
      ]
     },
     "execution_count": 58,
     "metadata": {},
     "output_type": "execute_result"
    }
   ],
   "source": [
    "religion['year'].unique()"
   ]
  },
  {
   "cell_type": "code",
   "execution_count": 59,
   "metadata": {},
   "outputs": [
    {
     "data": {
      "text/plain": [
       "year           0\n",
       "region         0\n",
       "chrstprot      0\n",
       "chrstcat       0\n",
       "chrstorth      0\n",
       "              ..\n",
       "othrgenpct     0\n",
       "sumreligpct    0\n",
       "totalpct       0\n",
       "totregpct      0\n",
       "version        0\n",
       "Length: 79, dtype: int64"
      ]
     },
     "execution_count": 59,
     "metadata": {},
     "output_type": "execute_result"
    }
   ],
   "source": [
    "religion.isnull().sum()"
   ]
  },
  {
   "cell_type": "code",
   "execution_count": 60,
   "metadata": {},
   "outputs": [],
   "source": [
    "religionew = religion[(religion.year >= 1985)& (religion.year <= 2010)]"
   ]
  },
  {
   "cell_type": "code",
   "execution_count": 61,
   "metadata": {},
   "outputs": [
    {
     "data": {
      "text/html": [
       "<div>\n",
       "<style scoped>\n",
       "    .dataframe tbody tr th:only-of-type {\n",
       "        vertical-align: middle;\n",
       "    }\n",
       "\n",
       "    .dataframe tbody tr th {\n",
       "        vertical-align: top;\n",
       "    }\n",
       "\n",
       "    .dataframe thead th {\n",
       "        text-align: right;\n",
       "    }\n",
       "</style>\n",
       "<table border=\"1\" class=\"dataframe\">\n",
       "  <thead>\n",
       "    <tr style=\"text-align: right;\">\n",
       "      <th></th>\n",
       "      <th>year</th>\n",
       "      <th>region</th>\n",
       "      <th>chrstprot</th>\n",
       "      <th>chrstcat</th>\n",
       "      <th>chrstorth</th>\n",
       "      <th>chrstang</th>\n",
       "      <th>chrstothr</th>\n",
       "      <th>chrstgen</th>\n",
       "      <th>judorth</th>\n",
       "      <th>jdcons</th>\n",
       "      <th>...</th>\n",
       "      <th>jaingenpct</th>\n",
       "      <th>confgenpct</th>\n",
       "      <th>syncgenpct</th>\n",
       "      <th>anmgenpct</th>\n",
       "      <th>nonreligpct</th>\n",
       "      <th>othrgenpct</th>\n",
       "      <th>sumreligpct</th>\n",
       "      <th>totalpct</th>\n",
       "      <th>totregpct</th>\n",
       "      <th>version</th>\n",
       "    </tr>\n",
       "  </thead>\n",
       "  <tbody>\n",
       "    <tr>\n",
       "      <td>40</td>\n",
       "      <td>1985</td>\n",
       "      <td>Africa</td>\n",
       "      <td>51,004,398</td>\n",
       "      <td>73,386,870</td>\n",
       "      <td>19,054,140</td>\n",
       "      <td>17,519,220</td>\n",
       "      <td>67,694,251</td>\n",
       "      <td>228,658,879</td>\n",
       "      <td>0</td>\n",
       "      <td>0</td>\n",
       "      <td>...</td>\n",
       "      <td>0.0001</td>\n",
       "      <td>0.0000</td>\n",
       "      <td>0.0001</td>\n",
       "      <td>0.1611</td>\n",
       "      <td>0.0050</td>\n",
       "      <td>0.0073</td>\n",
       "      <td>0.9950</td>\n",
       "      <td>1.0000</td>\n",
       "      <td>0.0895</td>\n",
       "      <td>1.1</td>\n",
       "    </tr>\n",
       "    <tr>\n",
       "      <td>41</td>\n",
       "      <td>1985</td>\n",
       "      <td>Asia</td>\n",
       "      <td>40,205,810</td>\n",
       "      <td>79,653,394</td>\n",
       "      <td>2,656,902</td>\n",
       "      <td>5,229,835</td>\n",
       "      <td>47,278,573</td>\n",
       "      <td>175,024,514</td>\n",
       "      <td>0</td>\n",
       "      <td>0</td>\n",
       "      <td>...</td>\n",
       "      <td>0.0014</td>\n",
       "      <td>0.0005</td>\n",
       "      <td>0.1685</td>\n",
       "      <td>0.0360</td>\n",
       "      <td>0.2147</td>\n",
       "      <td>0.0021</td>\n",
       "      <td>0.8161</td>\n",
       "      <td>1.0308</td>\n",
       "      <td>0.5225</td>\n",
       "      <td>1.1</td>\n",
       "    </tr>\n",
       "    <tr>\n",
       "      <td>42</td>\n",
       "      <td>1985</td>\n",
       "      <td>Europe</td>\n",
       "      <td>82,115,850</td>\n",
       "      <td>260,592,119</td>\n",
       "      <td>109,218,297</td>\n",
       "      <td>26,909,075</td>\n",
       "      <td>17,622,140</td>\n",
       "      <td>496,457,481</td>\n",
       "      <td>0</td>\n",
       "      <td>0</td>\n",
       "      <td>...</td>\n",
       "      <td>0.0000</td>\n",
       "      <td>0.0000</td>\n",
       "      <td>0.0001</td>\n",
       "      <td>0.0009</td>\n",
       "      <td>0.2737</td>\n",
       "      <td>0.0172</td>\n",
       "      <td>0.7263</td>\n",
       "      <td>1.0000</td>\n",
       "      <td>0.1592</td>\n",
       "      <td>1.1</td>\n",
       "    </tr>\n",
       "    <tr>\n",
       "      <td>43</td>\n",
       "      <td>1985</td>\n",
       "      <td>Mideast</td>\n",
       "      <td>205,699</td>\n",
       "      <td>2,614,480</td>\n",
       "      <td>4,772,352</td>\n",
       "      <td>214,410</td>\n",
       "      <td>3,380,557</td>\n",
       "      <td>11,187,498</td>\n",
       "      <td>3,165,480</td>\n",
       "      <td>211,032</td>\n",
       "      <td>...</td>\n",
       "      <td>0.0000</td>\n",
       "      <td>0.0000</td>\n",
       "      <td>0.0000</td>\n",
       "      <td>0.0149</td>\n",
       "      <td>0.0001</td>\n",
       "      <td>0.0121</td>\n",
       "      <td>0.9999</td>\n",
       "      <td>1.0000</td>\n",
       "      <td>0.0591</td>\n",
       "      <td>1.1</td>\n",
       "    </tr>\n",
       "    <tr>\n",
       "      <td>44</td>\n",
       "      <td>1985</td>\n",
       "      <td>West. Hem</td>\n",
       "      <td>131,529,564</td>\n",
       "      <td>449,070,083</td>\n",
       "      <td>5,733,362</td>\n",
       "      <td>6,779,340</td>\n",
       "      <td>2,478,330</td>\n",
       "      <td>595,590,679</td>\n",
       "      <td>1,414,994</td>\n",
       "      <td>2,255,910</td>\n",
       "      <td>...</td>\n",
       "      <td>0.0000</td>\n",
       "      <td>0.0000</td>\n",
       "      <td>0.0153</td>\n",
       "      <td>0.0007</td>\n",
       "      <td>0.0506</td>\n",
       "      <td>0.0170</td>\n",
       "      <td>0.9642</td>\n",
       "      <td>1.0149</td>\n",
       "      <td>0.1357</td>\n",
       "      <td>1.1</td>\n",
       "    </tr>\n",
       "  </tbody>\n",
       "</table>\n",
       "<p>5 rows × 79 columns</p>\n",
       "</div>"
      ],
      "text/plain": [
       "    year     region    chrstprot     chrstcat    chrstorth    chrstang  \\\n",
       "40  1985     Africa   51,004,398   73,386,870   19,054,140  17,519,220   \n",
       "41  1985       Asia   40,205,810   79,653,394    2,656,902   5,229,835   \n",
       "42  1985     Europe   82,115,850  260,592,119  109,218,297  26,909,075   \n",
       "43  1985    Mideast      205,699    2,614,480    4,772,352     214,410   \n",
       "44  1985  West. Hem  131,529,564  449,070,083    5,733,362   6,779,340   \n",
       "\n",
       "     chrstothr     chrstgen    judorth     jdcons  ... jaingenpct confgenpct  \\\n",
       "40  67,694,251  228,658,879          0          0  ...     0.0001     0.0000   \n",
       "41  47,278,573  175,024,514          0          0  ...     0.0014     0.0005   \n",
       "42  17,622,140  496,457,481          0          0  ...     0.0000     0.0000   \n",
       "43   3,380,557   11,187,498  3,165,480    211,032  ...     0.0000     0.0000   \n",
       "44   2,478,330  595,590,679  1,414,994  2,255,910  ...     0.0000     0.0000   \n",
       "\n",
       "   syncgenpct anmgenpct nonreligpct othrgenpct  sumreligpct totalpct  \\\n",
       "40     0.0001    0.1611      0.0050     0.0073       0.9950   1.0000   \n",
       "41     0.1685    0.0360      0.2147     0.0021       0.8161   1.0308   \n",
       "42     0.0001    0.0009      0.2737     0.0172       0.7263   1.0000   \n",
       "43     0.0000    0.0149      0.0001     0.0121       0.9999   1.0000   \n",
       "44     0.0153    0.0007      0.0506     0.0170       0.9642   1.0149   \n",
       "\n",
       "   totregpct version  \n",
       "40    0.0895     1.1  \n",
       "41    0.5225     1.1  \n",
       "42    0.1592     1.1  \n",
       "43    0.0591     1.1  \n",
       "44    0.1357     1.1  \n",
       "\n",
       "[5 rows x 79 columns]"
      ]
     },
     "execution_count": 61,
     "metadata": {},
     "output_type": "execute_result"
    }
   ],
   "source": [
    "religionew.head()"
   ]
  },
  {
   "cell_type": "code",
   "execution_count": 62,
   "metadata": {},
   "outputs": [],
   "source": [
    "religion2= religionew.groupby(['year']).agg({'nonreligpct': 'sum', 'sumreligpct': 'sum','totalpct':'sum',})"
   ]
  },
  {
   "cell_type": "code",
   "execution_count": 63,
   "metadata": {},
   "outputs": [
    {
     "data": {
      "text/html": [
       "<div>\n",
       "<style scoped>\n",
       "    .dataframe tbody tr th:only-of-type {\n",
       "        vertical-align: middle;\n",
       "    }\n",
       "\n",
       "    .dataframe tbody tr th {\n",
       "        vertical-align: top;\n",
       "    }\n",
       "\n",
       "    .dataframe thead th {\n",
       "        text-align: right;\n",
       "    }\n",
       "</style>\n",
       "<table border=\"1\" class=\"dataframe\">\n",
       "  <thead>\n",
       "    <tr style=\"text-align: right;\">\n",
       "      <th></th>\n",
       "      <th>nonreligpct</th>\n",
       "      <th>sumreligpct</th>\n",
       "      <th>totalpct</th>\n",
       "    </tr>\n",
       "    <tr>\n",
       "      <th>year</th>\n",
       "      <th></th>\n",
       "      <th></th>\n",
       "      <th></th>\n",
       "    </tr>\n",
       "  </thead>\n",
       "  <tbody>\n",
       "    <tr>\n",
       "      <td>1985</td>\n",
       "      <td>0.5441</td>\n",
       "      <td>4.5015</td>\n",
       "      <td>5.0457</td>\n",
       "    </tr>\n",
       "    <tr>\n",
       "      <td>1990</td>\n",
       "      <td>0.5324</td>\n",
       "      <td>4.5076</td>\n",
       "      <td>5.0401</td>\n",
       "    </tr>\n",
       "    <tr>\n",
       "      <td>1995</td>\n",
       "      <td>0.4855</td>\n",
       "      <td>4.5525</td>\n",
       "      <td>5.0381</td>\n",
       "    </tr>\n",
       "    <tr>\n",
       "      <td>2000</td>\n",
       "      <td>0.4266</td>\n",
       "      <td>4.6080</td>\n",
       "      <td>5.0346</td>\n",
       "    </tr>\n",
       "    <tr>\n",
       "      <td>2005</td>\n",
       "      <td>0.4217</td>\n",
       "      <td>4.6130</td>\n",
       "      <td>5.0347</td>\n",
       "    </tr>\n",
       "    <tr>\n",
       "      <td>2010</td>\n",
       "      <td>0.4440</td>\n",
       "      <td>4.5853</td>\n",
       "      <td>5.0292</td>\n",
       "    </tr>\n",
       "  </tbody>\n",
       "</table>\n",
       "</div>"
      ],
      "text/plain": [
       "      nonreligpct  sumreligpct  totalpct\n",
       "year                                    \n",
       "1985       0.5441       4.5015    5.0457\n",
       "1990       0.5324       4.5076    5.0401\n",
       "1995       0.4855       4.5525    5.0381\n",
       "2000       0.4266       4.6080    5.0346\n",
       "2005       0.4217       4.6130    5.0347\n",
       "2010       0.4440       4.5853    5.0292"
      ]
     },
     "execution_count": 63,
     "metadata": {},
     "output_type": "execute_result"
    }
   ],
   "source": [
    "religion2\n",
    "# this variable allows for analysis based on just year"
   ]
  },
  {
   "cell_type": "markdown",
   "metadata": {},
   "source": [
    "###### WHO SUICIDE DATA"
   ]
  },
  {
   "cell_type": "code",
   "execution_count": 64,
   "metadata": {},
   "outputs": [
    {
     "data": {
      "text/plain": [
       "country         object\n",
       "year             int64\n",
       "sex             object\n",
       "age             object\n",
       "suicides_no    float64\n",
       "population     float64\n",
       "dtype: object"
      ]
     },
     "execution_count": 64,
     "metadata": {},
     "output_type": "execute_result"
    }
   ],
   "source": [
    "mental.dtypes"
   ]
  },
  {
   "cell_type": "code",
   "execution_count": 65,
   "metadata": {},
   "outputs": [
    {
     "data": {
      "text/plain": [
       "country           0\n",
       "year              0\n",
       "sex               0\n",
       "age               0\n",
       "suicides_no    2256\n",
       "population     5460\n",
       "dtype: int64"
      ]
     },
     "execution_count": 65,
     "metadata": {},
     "output_type": "execute_result"
    }
   ],
   "source": [
    "mental.isnull().sum()"
   ]
  },
  {
   "cell_type": "code",
   "execution_count": 66,
   "metadata": {},
   "outputs": [],
   "source": [
    "mental = mental.dropna()"
   ]
  },
  {
   "cell_type": "code",
   "execution_count": 67,
   "metadata": {},
   "outputs": [
    {
     "data": {
      "text/plain": [
       "24       1987\n",
       "25       1987\n",
       "26       1987\n",
       "27       1987\n",
       "28       1987\n",
       "         ... \n",
       "43759    2015\n",
       "43760    2015\n",
       "43761    2015\n",
       "43762    2015\n",
       "43763    2015\n",
       "Name: year, Length: 36060, dtype: int64"
      ]
     },
     "execution_count": 67,
     "metadata": {},
     "output_type": "execute_result"
    }
   ],
   "source": [
    "mental.year"
   ]
  },
  {
   "cell_type": "markdown",
   "metadata": {},
   "source": [
    "first what amount of the countries included in mental new are also in regionref, we then drop countries that are not. We create a dictionary from the regionref dataframe so that the country was the key and the region is the value, and then used the replace method to change the countries to regions. "
   ]
  },
  {
   "cell_type": "code",
   "execution_count": 68,
   "metadata": {},
   "outputs": [],
   "source": [
    "mentalnew = mental[(mental.year >= 1985) & (mental.year <= 2010)]"
   ]
  },
  {
   "cell_type": "code",
   "execution_count": 69,
   "metadata": {},
   "outputs": [
    {
     "data": {
      "text/plain": [
       "True     22896\n",
       "False     3840\n",
       "Name: country, dtype: int64"
      ]
     },
     "execution_count": 69,
     "metadata": {},
     "output_type": "execute_result"
    }
   ],
   "source": [
    "mentalnew['country'].isin(regionref['Country']).value_counts()"
   ]
  },
  {
   "cell_type": "code",
   "execution_count": 70,
   "metadata": {},
   "outputs": [],
   "source": [
    "mentalnew = mentalnew[mentalnew['country'].isin(regionref['Country'])]"
   ]
  },
  {
   "cell_type": "code",
   "execution_count": 71,
   "metadata": {},
   "outputs": [],
   "source": [
    "df2 = regionref.set_index('Country').to_dict()['Region']\n",
    "mentalnew = mentalnew.replace(df2)"
   ]
  },
  {
   "cell_type": "code",
   "execution_count": 72,
   "metadata": {},
   "outputs": [
    {
     "data": {
      "text/html": [
       "<div>\n",
       "<style scoped>\n",
       "    .dataframe tbody tr th:only-of-type {\n",
       "        vertical-align: middle;\n",
       "    }\n",
       "\n",
       "    .dataframe tbody tr th {\n",
       "        vertical-align: top;\n",
       "    }\n",
       "\n",
       "    .dataframe thead th {\n",
       "        text-align: right;\n",
       "    }\n",
       "</style>\n",
       "<table border=\"1\" class=\"dataframe\">\n",
       "  <thead>\n",
       "    <tr style=\"text-align: right;\">\n",
       "      <th></th>\n",
       "      <th>country</th>\n",
       "      <th>year</th>\n",
       "      <th>sex</th>\n",
       "      <th>age</th>\n",
       "      <th>suicides_no</th>\n",
       "      <th>population</th>\n",
       "    </tr>\n",
       "  </thead>\n",
       "  <tbody>\n",
       "    <tr>\n",
       "      <td>24</td>\n",
       "      <td>EASTERN EUROPE</td>\n",
       "      <td>1987</td>\n",
       "      <td>female</td>\n",
       "      <td>15-24 years</td>\n",
       "      <td>14.0</td>\n",
       "      <td>289700.0</td>\n",
       "    </tr>\n",
       "    <tr>\n",
       "      <td>25</td>\n",
       "      <td>EASTERN EUROPE</td>\n",
       "      <td>1987</td>\n",
       "      <td>female</td>\n",
       "      <td>25-34 years</td>\n",
       "      <td>4.0</td>\n",
       "      <td>257200.0</td>\n",
       "    </tr>\n",
       "    <tr>\n",
       "      <td>26</td>\n",
       "      <td>EASTERN EUROPE</td>\n",
       "      <td>1987</td>\n",
       "      <td>female</td>\n",
       "      <td>35-54 years</td>\n",
       "      <td>6.0</td>\n",
       "      <td>278800.0</td>\n",
       "    </tr>\n",
       "    <tr>\n",
       "      <td>27</td>\n",
       "      <td>EASTERN EUROPE</td>\n",
       "      <td>1987</td>\n",
       "      <td>female</td>\n",
       "      <td>5-14 years</td>\n",
       "      <td>0.0</td>\n",
       "      <td>311000.0</td>\n",
       "    </tr>\n",
       "    <tr>\n",
       "      <td>28</td>\n",
       "      <td>EASTERN EUROPE</td>\n",
       "      <td>1987</td>\n",
       "      <td>female</td>\n",
       "      <td>55-74 years</td>\n",
       "      <td>0.0</td>\n",
       "      <td>144600.0</td>\n",
       "    </tr>\n",
       "    <tr>\n",
       "      <td>...</td>\n",
       "      <td>...</td>\n",
       "      <td>...</td>\n",
       "      <td>...</td>\n",
       "      <td>...</td>\n",
       "      <td>...</td>\n",
       "      <td>...</td>\n",
       "    </tr>\n",
       "    <tr>\n",
       "      <td>43087</td>\n",
       "      <td>C.W. OF IND. STATES</td>\n",
       "      <td>2010</td>\n",
       "      <td>male</td>\n",
       "      <td>25-34 years</td>\n",
       "      <td>235.0</td>\n",
       "      <td>2375259.0</td>\n",
       "    </tr>\n",
       "    <tr>\n",
       "      <td>43088</td>\n",
       "      <td>C.W. OF IND. STATES</td>\n",
       "      <td>2010</td>\n",
       "      <td>male</td>\n",
       "      <td>35-54 years</td>\n",
       "      <td>371.0</td>\n",
       "      <td>3142694.0</td>\n",
       "    </tr>\n",
       "    <tr>\n",
       "      <td>43089</td>\n",
       "      <td>C.W. OF IND. STATES</td>\n",
       "      <td>2010</td>\n",
       "      <td>male</td>\n",
       "      <td>5-14 years</td>\n",
       "      <td>48.0</td>\n",
       "      <td>2751752.0</td>\n",
       "    </tr>\n",
       "    <tr>\n",
       "      <td>43090</td>\n",
       "      <td>C.W. OF IND. STATES</td>\n",
       "      <td>2010</td>\n",
       "      <td>male</td>\n",
       "      <td>55-74 years</td>\n",
       "      <td>102.0</td>\n",
       "      <td>1036963.0</td>\n",
       "    </tr>\n",
       "    <tr>\n",
       "      <td>43091</td>\n",
       "      <td>C.W. OF IND. STATES</td>\n",
       "      <td>2010</td>\n",
       "      <td>male</td>\n",
       "      <td>75+ years</td>\n",
       "      <td>9.0</td>\n",
       "      <td>196160.0</td>\n",
       "    </tr>\n",
       "  </tbody>\n",
       "</table>\n",
       "<p>22896 rows × 6 columns</p>\n",
       "</div>"
      ],
      "text/plain": [
       "                   country  year     sex          age  suicides_no  population\n",
       "24          EASTERN EUROPE  1987  female  15-24 years         14.0    289700.0\n",
       "25          EASTERN EUROPE  1987  female  25-34 years          4.0    257200.0\n",
       "26          EASTERN EUROPE  1987  female  35-54 years          6.0    278800.0\n",
       "27          EASTERN EUROPE  1987  female   5-14 years          0.0    311000.0\n",
       "28          EASTERN EUROPE  1987  female  55-74 years          0.0    144600.0\n",
       "...                    ...   ...     ...          ...          ...         ...\n",
       "43087  C.W. OF IND. STATES  2010    male  25-34 years        235.0   2375259.0\n",
       "43088  C.W. OF IND. STATES  2010    male  35-54 years        371.0   3142694.0\n",
       "43089  C.W. OF IND. STATES  2010    male   5-14 years         48.0   2751752.0\n",
       "43090  C.W. OF IND. STATES  2010    male  55-74 years        102.0   1036963.0\n",
       "43091  C.W. OF IND. STATES  2010    male    75+ years          9.0    196160.0\n",
       "\n",
       "[22896 rows x 6 columns]"
      ]
     },
     "execution_count": 72,
     "metadata": {},
     "output_type": "execute_result"
    }
   ],
   "source": [
    "mentalnew"
   ]
  },
  {
   "cell_type": "code",
   "execution_count": 73,
   "metadata": {},
   "outputs": [],
   "source": [
    "mentalnew = mentalnew.groupby(['year','country'])[['suicides_no']].sum().reset_index()"
   ]
  },
  {
   "cell_type": "code",
   "execution_count": 74,
   "metadata": {},
   "outputs": [
    {
     "data": {
      "text/html": [
       "<div>\n",
       "<style scoped>\n",
       "    .dataframe tbody tr th:only-of-type {\n",
       "        vertical-align: middle;\n",
       "    }\n",
       "\n",
       "    .dataframe tbody tr th {\n",
       "        vertical-align: top;\n",
       "    }\n",
       "\n",
       "    .dataframe thead th {\n",
       "        text-align: right;\n",
       "    }\n",
       "</style>\n",
       "<table border=\"1\" class=\"dataframe\">\n",
       "  <thead>\n",
       "    <tr style=\"text-align: right;\">\n",
       "      <th></th>\n",
       "      <th>year</th>\n",
       "      <th>country</th>\n",
       "      <th>suicides_no</th>\n",
       "    </tr>\n",
       "  </thead>\n",
       "  <tbody>\n",
       "    <tr>\n",
       "      <td>0</td>\n",
       "      <td>1985</td>\n",
       "      <td>ASIA (EX. NEAR EAST)</td>\n",
       "      <td>26239.0</td>\n",
       "    </tr>\n",
       "    <tr>\n",
       "      <td>1</td>\n",
       "      <td>1985</td>\n",
       "      <td>BALTICS</td>\n",
       "      <td>2435.0</td>\n",
       "    </tr>\n",
       "    <tr>\n",
       "      <td>2</td>\n",
       "      <td>1985</td>\n",
       "      <td>C.W. OF IND. STATES</td>\n",
       "      <td>19935.0</td>\n",
       "    </tr>\n",
       "    <tr>\n",
       "      <td>3</td>\n",
       "      <td>1985</td>\n",
       "      <td>EASTERN EUROPE</td>\n",
       "      <td>12831.0</td>\n",
       "    </tr>\n",
       "    <tr>\n",
       "      <td>4</td>\n",
       "      <td>1985</td>\n",
       "      <td>LATIN AMER. &amp; CARIB</td>\n",
       "      <td>12724.0</td>\n",
       "    </tr>\n",
       "    <tr>\n",
       "      <td>...</td>\n",
       "      <td>...</td>\n",
       "      <td>...</td>\n",
       "      <td>...</td>\n",
       "    </tr>\n",
       "    <tr>\n",
       "      <td>267</td>\n",
       "      <td>2010</td>\n",
       "      <td>NORTHERN AFRICA</td>\n",
       "      <td>48.0</td>\n",
       "    </tr>\n",
       "    <tr>\n",
       "      <td>268</td>\n",
       "      <td>2010</td>\n",
       "      <td>NORTHERN AMERICA</td>\n",
       "      <td>3951.0</td>\n",
       "    </tr>\n",
       "    <tr>\n",
       "      <td>269</td>\n",
       "      <td>2010</td>\n",
       "      <td>OCEANIA</td>\n",
       "      <td>2420.0</td>\n",
       "    </tr>\n",
       "    <tr>\n",
       "      <td>270</td>\n",
       "      <td>2010</td>\n",
       "      <td>SUB-SAHARAN AFRICA</td>\n",
       "      <td>5592.0</td>\n",
       "    </tr>\n",
       "    <tr>\n",
       "      <td>271</td>\n",
       "      <td>2010</td>\n",
       "      <td>WESTERN EUROPE</td>\n",
       "      <td>38168.0</td>\n",
       "    </tr>\n",
       "  </tbody>\n",
       "</table>\n",
       "<p>272 rows × 3 columns</p>\n",
       "</div>"
      ],
      "text/plain": [
       "     year               country  suicides_no\n",
       "0    1985  ASIA (EX. NEAR EAST)      26239.0\n",
       "1    1985               BALTICS       2435.0\n",
       "2    1985   C.W. OF IND. STATES      19935.0\n",
       "3    1985        EASTERN EUROPE      12831.0\n",
       "4    1985   LATIN AMER. & CARIB      12724.0\n",
       "..    ...                   ...          ...\n",
       "267  2010       NORTHERN AFRICA         48.0\n",
       "268  2010      NORTHERN AMERICA       3951.0\n",
       "269  2010               OCEANIA       2420.0\n",
       "270  2010    SUB-SAHARAN AFRICA       5592.0\n",
       "271  2010        WESTERN EUROPE      38168.0\n",
       "\n",
       "[272 rows x 3 columns]"
      ]
     },
     "execution_count": 74,
     "metadata": {},
     "output_type": "execute_result"
    }
   ],
   "source": [
    "mentalnew"
   ]
  },
  {
   "cell_type": "markdown",
   "metadata": {},
   "source": [
    "We then changed the region names so they are standardized and match with the other datasets"
   ]
  },
  {
   "cell_type": "code",
   "execution_count": 75,
   "metadata": {},
   "outputs": [],
   "source": [
    "mentalnew['country'] = mentalnew['country'].replace(['SUB-SAHARAN AFRICA','OCEANIA'], 'Africa')\n",
    "mentalnew['country'] = mentalnew['country'].replace(['WESTERN EUROPE','EASTERN EUROPE','BALTICS','C.W. OF IND. STATES'], 'Europe')\n",
    "mentalnew['country'] = mentalnew['country'].replace(['NORTHERN AMERICA','LATIN AMER. & CARIB'],'West. Hem')\n",
    "mentalnew['country'] = mentalnew['country'].replace(['ASIA (EX. NEAR EAST)','NEAR EAST'],'Asia')\n",
    "mentalnew['country'] = mentalnew['country'].replace(['NORTHERN AFRICA'],'Mideast')"
   ]
  },
  {
   "cell_type": "code",
   "execution_count": 76,
   "metadata": {},
   "outputs": [
    {
     "data": {
      "text/html": [
       "<div>\n",
       "<style scoped>\n",
       "    .dataframe tbody tr th:only-of-type {\n",
       "        vertical-align: middle;\n",
       "    }\n",
       "\n",
       "    .dataframe tbody tr th {\n",
       "        vertical-align: top;\n",
       "    }\n",
       "\n",
       "    .dataframe thead th {\n",
       "        text-align: right;\n",
       "    }\n",
       "</style>\n",
       "<table border=\"1\" class=\"dataframe\">\n",
       "  <thead>\n",
       "    <tr style=\"text-align: right;\">\n",
       "      <th></th>\n",
       "      <th>year</th>\n",
       "      <th>country</th>\n",
       "      <th>suicides_no</th>\n",
       "    </tr>\n",
       "  </thead>\n",
       "  <tbody>\n",
       "    <tr>\n",
       "      <td>0</td>\n",
       "      <td>1985</td>\n",
       "      <td>Asia</td>\n",
       "      <td>26239.0</td>\n",
       "    </tr>\n",
       "    <tr>\n",
       "      <td>1</td>\n",
       "      <td>1985</td>\n",
       "      <td>Europe</td>\n",
       "      <td>2435.0</td>\n",
       "    </tr>\n",
       "    <tr>\n",
       "      <td>2</td>\n",
       "      <td>1985</td>\n",
       "      <td>Europe</td>\n",
       "      <td>19935.0</td>\n",
       "    </tr>\n",
       "    <tr>\n",
       "      <td>3</td>\n",
       "      <td>1985</td>\n",
       "      <td>Europe</td>\n",
       "      <td>12831.0</td>\n",
       "    </tr>\n",
       "    <tr>\n",
       "      <td>4</td>\n",
       "      <td>1985</td>\n",
       "      <td>West. Hem</td>\n",
       "      <td>12724.0</td>\n",
       "    </tr>\n",
       "    <tr>\n",
       "      <td>...</td>\n",
       "      <td>...</td>\n",
       "      <td>...</td>\n",
       "      <td>...</td>\n",
       "    </tr>\n",
       "    <tr>\n",
       "      <td>267</td>\n",
       "      <td>2010</td>\n",
       "      <td>Mideast</td>\n",
       "      <td>48.0</td>\n",
       "    </tr>\n",
       "    <tr>\n",
       "      <td>268</td>\n",
       "      <td>2010</td>\n",
       "      <td>West. Hem</td>\n",
       "      <td>3951.0</td>\n",
       "    </tr>\n",
       "    <tr>\n",
       "      <td>269</td>\n",
       "      <td>2010</td>\n",
       "      <td>Africa</td>\n",
       "      <td>2420.0</td>\n",
       "    </tr>\n",
       "    <tr>\n",
       "      <td>270</td>\n",
       "      <td>2010</td>\n",
       "      <td>Africa</td>\n",
       "      <td>5592.0</td>\n",
       "    </tr>\n",
       "    <tr>\n",
       "      <td>271</td>\n",
       "      <td>2010</td>\n",
       "      <td>Europe</td>\n",
       "      <td>38168.0</td>\n",
       "    </tr>\n",
       "  </tbody>\n",
       "</table>\n",
       "<p>272 rows × 3 columns</p>\n",
       "</div>"
      ],
      "text/plain": [
       "     year    country  suicides_no\n",
       "0    1985       Asia      26239.0\n",
       "1    1985     Europe       2435.0\n",
       "2    1985     Europe      19935.0\n",
       "3    1985     Europe      12831.0\n",
       "4    1985  West. Hem      12724.0\n",
       "..    ...        ...          ...\n",
       "267  2010    Mideast         48.0\n",
       "268  2010  West. Hem       3951.0\n",
       "269  2010     Africa       2420.0\n",
       "270  2010     Africa       5592.0\n",
       "271  2010     Europe      38168.0\n",
       "\n",
       "[272 rows x 3 columns]"
      ]
     },
     "execution_count": 76,
     "metadata": {},
     "output_type": "execute_result"
    }
   ],
   "source": [
    "mentalnew"
   ]
  },
  {
   "cell_type": "code",
   "execution_count": 77,
   "metadata": {},
   "outputs": [],
   "source": [
    "mentalnew = mentalnew.groupby(['year','country'])[['suicides_no']].sum().reset_index()"
   ]
  },
  {
   "cell_type": "code",
   "execution_count": 87,
   "metadata": {},
   "outputs": [],
   "source": [
    "check = ['1985','1990','1995','2000','2005','2010']\n",
    "mentalnew = mentalnew[mentalnew['year'].isin(check)]"
   ]
  },
  {
   "cell_type": "code",
   "execution_count": 88,
   "metadata": {},
   "outputs": [
    {
     "data": {
      "text/html": [
       "<div>\n",
       "<style scoped>\n",
       "    .dataframe tbody tr th:only-of-type {\n",
       "        vertical-align: middle;\n",
       "    }\n",
       "\n",
       "    .dataframe tbody tr th {\n",
       "        vertical-align: top;\n",
       "    }\n",
       "\n",
       "    .dataframe thead th {\n",
       "        text-align: right;\n",
       "    }\n",
       "</style>\n",
       "<table border=\"1\" class=\"dataframe\">\n",
       "  <thead>\n",
       "    <tr style=\"text-align: right;\">\n",
       "      <th></th>\n",
       "      <th>year</th>\n",
       "      <th>country</th>\n",
       "      <th>suicides_no</th>\n",
       "    </tr>\n",
       "  </thead>\n",
       "  <tbody>\n",
       "    <tr>\n",
       "      <td>0</td>\n",
       "      <td>1985</td>\n",
       "      <td>Africa</td>\n",
       "      <td>4803.0</td>\n",
       "    </tr>\n",
       "    <tr>\n",
       "      <td>1</td>\n",
       "      <td>1985</td>\n",
       "      <td>Asia</td>\n",
       "      <td>26501.0</td>\n",
       "    </tr>\n",
       "    <tr>\n",
       "      <td>2</td>\n",
       "      <td>1985</td>\n",
       "      <td>Europe</td>\n",
       "      <td>69359.0</td>\n",
       "    </tr>\n",
       "    <tr>\n",
       "      <td>3</td>\n",
       "      <td>1985</td>\n",
       "      <td>West. Hem</td>\n",
       "      <td>15982.0</td>\n",
       "    </tr>\n",
       "    <tr>\n",
       "      <td>21</td>\n",
       "      <td>1990</td>\n",
       "      <td>Africa</td>\n",
       "      <td>5642.0</td>\n",
       "    </tr>\n",
       "    <tr>\n",
       "      <td>22</td>\n",
       "      <td>1990</td>\n",
       "      <td>Asia</td>\n",
       "      <td>24059.0</td>\n",
       "    </tr>\n",
       "    <tr>\n",
       "      <td>23</td>\n",
       "      <td>1990</td>\n",
       "      <td>Europe</td>\n",
       "      <td>80296.0</td>\n",
       "    </tr>\n",
       "    <tr>\n",
       "      <td>24</td>\n",
       "      <td>1990</td>\n",
       "      <td>West. Hem</td>\n",
       "      <td>18021.0</td>\n",
       "    </tr>\n",
       "    <tr>\n",
       "      <td>41</td>\n",
       "      <td>1995</td>\n",
       "      <td>Africa</td>\n",
       "      <td>5843.0</td>\n",
       "    </tr>\n",
       "    <tr>\n",
       "      <td>42</td>\n",
       "      <td>1995</td>\n",
       "      <td>Asia</td>\n",
       "      <td>26615.0</td>\n",
       "    </tr>\n",
       "    <tr>\n",
       "      <td>43</td>\n",
       "      <td>1995</td>\n",
       "      <td>Europe</td>\n",
       "      <td>89668.0</td>\n",
       "    </tr>\n",
       "    <tr>\n",
       "      <td>44</td>\n",
       "      <td>1995</td>\n",
       "      <td>West. Hem</td>\n",
       "      <td>24567.0</td>\n",
       "    </tr>\n",
       "    <tr>\n",
       "      <td>61</td>\n",
       "      <td>2000</td>\n",
       "      <td>Africa</td>\n",
       "      <td>8042.0</td>\n",
       "    </tr>\n",
       "    <tr>\n",
       "      <td>62</td>\n",
       "      <td>2000</td>\n",
       "      <td>Asia</td>\n",
       "      <td>37767.0</td>\n",
       "    </tr>\n",
       "    <tr>\n",
       "      <td>63</td>\n",
       "      <td>2000</td>\n",
       "      <td>Europe</td>\n",
       "      <td>90519.0</td>\n",
       "    </tr>\n",
       "    <tr>\n",
       "      <td>64</td>\n",
       "      <td>2000</td>\n",
       "      <td>Mideast</td>\n",
       "      <td>48.0</td>\n",
       "    </tr>\n",
       "    <tr>\n",
       "      <td>65</td>\n",
       "      <td>2000</td>\n",
       "      <td>West. Hem</td>\n",
       "      <td>26984.0</td>\n",
       "    </tr>\n",
       "    <tr>\n",
       "      <td>86</td>\n",
       "      <td>2005</td>\n",
       "      <td>Africa</td>\n",
       "      <td>5867.0</td>\n",
       "    </tr>\n",
       "    <tr>\n",
       "      <td>87</td>\n",
       "      <td>2005</td>\n",
       "      <td>Asia</td>\n",
       "      <td>35635.0</td>\n",
       "    </tr>\n",
       "    <tr>\n",
       "      <td>88</td>\n",
       "      <td>2005</td>\n",
       "      <td>Europe</td>\n",
       "      <td>71950.0</td>\n",
       "    </tr>\n",
       "    <tr>\n",
       "      <td>89</td>\n",
       "      <td>2005</td>\n",
       "      <td>Mideast</td>\n",
       "      <td>52.0</td>\n",
       "    </tr>\n",
       "    <tr>\n",
       "      <td>90</td>\n",
       "      <td>2005</td>\n",
       "      <td>West. Hem</td>\n",
       "      <td>30401.0</td>\n",
       "    </tr>\n",
       "    <tr>\n",
       "      <td>111</td>\n",
       "      <td>2010</td>\n",
       "      <td>Africa</td>\n",
       "      <td>8012.0</td>\n",
       "    </tr>\n",
       "    <tr>\n",
       "      <td>112</td>\n",
       "      <td>2010</td>\n",
       "      <td>Asia</td>\n",
       "      <td>38191.0</td>\n",
       "    </tr>\n",
       "    <tr>\n",
       "      <td>113</td>\n",
       "      <td>2010</td>\n",
       "      <td>Europe</td>\n",
       "      <td>72596.0</td>\n",
       "    </tr>\n",
       "    <tr>\n",
       "      <td>114</td>\n",
       "      <td>2010</td>\n",
       "      <td>Mideast</td>\n",
       "      <td>48.0</td>\n",
       "    </tr>\n",
       "    <tr>\n",
       "      <td>115</td>\n",
       "      <td>2010</td>\n",
       "      <td>West. Hem</td>\n",
       "      <td>32627.0</td>\n",
       "    </tr>\n",
       "  </tbody>\n",
       "</table>\n",
       "</div>"
      ],
      "text/plain": [
       "     year    country  suicides_no\n",
       "0    1985     Africa       4803.0\n",
       "1    1985       Asia      26501.0\n",
       "2    1985     Europe      69359.0\n",
       "3    1985  West. Hem      15982.0\n",
       "21   1990     Africa       5642.0\n",
       "22   1990       Asia      24059.0\n",
       "23   1990     Europe      80296.0\n",
       "24   1990  West. Hem      18021.0\n",
       "41   1995     Africa       5843.0\n",
       "42   1995       Asia      26615.0\n",
       "43   1995     Europe      89668.0\n",
       "44   1995  West. Hem      24567.0\n",
       "61   2000     Africa       8042.0\n",
       "62   2000       Asia      37767.0\n",
       "63   2000     Europe      90519.0\n",
       "64   2000    Mideast         48.0\n",
       "65   2000  West. Hem      26984.0\n",
       "86   2005     Africa       5867.0\n",
       "87   2005       Asia      35635.0\n",
       "88   2005     Europe      71950.0\n",
       "89   2005    Mideast         52.0\n",
       "90   2005  West. Hem      30401.0\n",
       "111  2010     Africa       8012.0\n",
       "112  2010       Asia      38191.0\n",
       "113  2010     Europe      72596.0\n",
       "114  2010    Mideast         48.0\n",
       "115  2010  West. Hem      32627.0"
      ]
     },
     "execution_count": 88,
     "metadata": {},
     "output_type": "execute_result"
    }
   ],
   "source": [
    "mentalnew"
   ]
  },
  {
   "cell_type": "markdown",
   "metadata": {},
   "source": [
    "## Data Visualization"
   ]
  },
  {
   "cell_type": "markdown",
   "metadata": {},
   "source": [
    "Basic visualization of the various distributions of data amongst the various datasets"
   ]
  },
  {
   "cell_type": "code",
   "execution_count": 157,
   "metadata": {
    "scrolled": true
   },
   "outputs": [
    {
     "data": {
      "image/png": "[encoded data removed]",
      "text/plain": [
       "<Figure size 432x288 with 1 Axes>"
      ]
     },
     "metadata": {
      "needs_background": "light"
     },
     "output_type": "display_data"
    }
   ],
   "source": [
    "sns.lineplot(data=populationnew, palette='autumn', linewidth=2.5)\n",
    "plt.title('Population by Region over 25 Years', fontsize=15);"
   ]
  },
  {
   "cell_type": "code",
   "execution_count": 80,
   "metadata": {},
   "outputs": [
    {
     "data": {
      "image/png": "[encoded data removed]",
      "text/plain": [
       "<Figure size 432x288 with 1 Axes>"
      ]
     },
     "metadata": {
      "needs_background": "light"
     },
     "output_type": "display_data"
    }
   ],
   "source": [
    "mentalnew.groupby('year')['suicides_no'].sum().plot(kind='bar',stacked=True, colormap ='autumn');\n",
    "plt.title('Number of Suicides Over a 25 Year Span', fontsize=15);"
   ]
  },
  {
   "cell_type": "code",
   "execution_count": 127,
   "metadata": {},
   "outputs": [
    {
     "data": {
      "image/png": "[encoded data removed]",
      "text/plain": [
       "<Figure size 432x288 with 1 Axes>"
      ]
     },
     "metadata": {
      "needs_background": "light"
     },
     "output_type": "display_data"
    }
   ],
   "source": [
    "mentalnew.groupby('country')['suicides_no'].sum().plot(kind='bar',colormap ='autumn')\n",
    "plt.title('Suicide Occurences by Region Over a 25 Year Span', fontsize=15);"
   ]
  },
  {
   "cell_type": "code",
   "execution_count": 126,
   "metadata": {},
   "outputs": [
    {
     "data": {
      "image/png": "[encoded data removed]",
      "text/plain": [
       "<Figure size 432x288 with 1 Axes>"
      ]
     },
     "metadata": {},
     "output_type": "display_data"
    }
   ],
   "source": [
    "religion2.groupby('year')['nonreligpct'].sum().plot(kind='pie',autopct='%1.1f%%',colormap='autumn')   \n",
    "plt.title('Percent of Athiests Out of Overall Pop Over 25 Year Span', fontsize=15);\n",
    "plt.axis('off');"
   ]
  },
  {
   "cell_type": "code",
   "execution_count": 162,
   "metadata": {},
   "outputs": [
    {
     "data": {
      "image/png": "[encoded data removed]",
      "text/plain": [
       "<Figure size 432x288 with 1 Axes>"
      ]
     },
     "metadata": {},
     "output_type": "display_data"
    }
   ],
   "source": [
    "religionew.groupby('region')['nonreligpct'].sum().plot(kind='pie',autopct='%1.1f%%',colormap='autumn')   \n",
    "plt.title('Percent of Athiests per Region Over 25 Year Span', fontsize=15);\n",
    "plt.axis('off');"
   ]
  },
  {
   "cell_type": "markdown",
   "metadata": {},
   "source": [
    "## Conclusion\n",
    "\n",
    "\n",
    "This was a very basic visualization of data, but from these visualizations it can be seen that in the years between 1985-2010, there werent significant changes. Most significant changes during this time period were to the population, and even that was gradual. \n",
    "\n",
    "- The ratio of athiest to believers were virtually the same, and the number of suicides throughout the years remained relativley stable. \n",
    "\n",
    "- The data that we used was outdated and the world is extremley different now than it was in 2010. But these datasets dont show any significant correlation between religion, population and mental health, for the most part. \n",
    "\n",
    "It can be assumed that as population increases, a certain equilibrium is met in regards to things such as religion or suicides, where ratios will remain the same proprotionate to increases in population. In order to explore these hypothesis newer and more accurate data would be needed. \n"
   ]
  }
 ],
 "metadata": {
  "kernelspec": {
   "display_name": "Python 3",
   "language": "python",
   "name": "python3"
  },
  "language_info": {
   "codemirror_mode": {
    "name": "ipython",
    "version": 3
   },
   "file_extension": ".py",
   "mimetype": "text/x-python",
   "name": "python",
   "nbconvert_exporter": "python",
   "pygments_lexer": "ipython3",
   "version": "3.7.4"
  }
 },
 "nbformat": 4,
 "nbformat_minor": 2
}
